{
 "cells": [
  {
   "cell_type": "code",
   "execution_count": 1,
   "metadata": {},
   "outputs": [
    {
     "name": "stderr",
     "output_type": "stream",
     "text": [
      "C:\\Anaconda3\\lib\\site-packages\\sklearn\\externals\\joblib\\__init__.py:15: DeprecationWarning: sklearn.externals.joblib is deprecated in 0.21 and will be removed in 0.23. Please import this functionality directly from joblib, which can be installed with: pip install joblib. If this warning is raised when loading pickled models, you may need to re-serialize those models with scikit-learn 0.21+.\n",
      "  warnings.warn(msg, category=DeprecationWarning)\n"
     ]
    }
   ],
   "source": [
    "import flask\n",
    "from flask import Flask, request, render_template\n",
    "from sklearn.externals import joblib\n",
    "import numpy as np\n",
    "from scipy import misc\n",
    "import imageio\n",
    "\n"
   ]
  },
  {
   "cell_type": "code",
   "execution_count": 5,
   "metadata": {},
   "outputs": [
    {
     "name": "stdout",
     "output_type": "stream",
     "text": [
      " * Serving Flask app \"__main__\" (lazy loading)\n",
      " * Environment: production\n",
      "   WARNING: This is a development server. Do not use it in a production deployment.\n",
      "   Use a production WSGI server instead.\n",
      " * Debug mode: off\n"
     ]
    },
    {
     "name": "stderr",
     "output_type": "stream",
     "text": [
      " * Running on http://localhost:80/ (Press CTRL+C to quit)\n"
     ]
    }
   ],
   "source": [
    "\n",
    "app = Flask(__name__)\n",
    "\n",
    "@app.route(\"/\")\n",
    "@app.route(\"/templates/\")\n",
    "def index():\n",
    "    return flask.render_template('index.html')\n",
    "\n",
    "\n",
    "@app.route('/predict', methods=['POST'])\n",
    "def make_prediction():\n",
    "    if request.method=='POST':\n",
    "\n",
    "        # get uploaded image file if it exists\n",
    "        file = request.files['image']\n",
    "    if not file: return render_template('index.html', label=\"No file\")\n",
    "\n",
    "    # read in file as raw pixels values\n",
    "    # (ignore extra alpha channel and reshape as its a single image)\n",
    "    img = imageio.imread(file)\n",
    "    img = img[:,:,:3]\n",
    "    img = img.reshape(1, -1)\n",
    "\n",
    "    # make prediction on new image\n",
    "    prediction = model.predict(img)\n",
    "\n",
    "    # squeeze value from 1D array and convert to string for clean return\n",
    "    label = str(np.squeeze(prediction))\n",
    "\n",
    "    # switch for case where label=10 and number=0\n",
    "    if label=='10': label='0'\n",
    "\n",
    "    return render_template('index.html', label=label)\n",
    "\n",
    "\n",
    "if __name__ == '__main__':\n",
    "    # load ml model\n",
    "    model = joblib.load('model1.pkl')\n",
    "    # start api\n",
    "    app.run(host='localhost', port=80)"
   ]
  },
  {
   "cell_type": "markdown",
   "metadata": {},
   "source": [
    "### Open url:     http://localhost:80/  \n",
    "### Chose test images and click predict"
   ]
  },
  {
   "cell_type": "code",
   "execution_count": null,
   "metadata": {},
   "outputs": [],
   "source": []
  }
 ],
 "metadata": {
  "kernelspec": {
   "display_name": "Python 3",
   "language": "python",
   "name": "python3"
  },
  "language_info": {
   "codemirror_mode": {
    "name": "ipython",
    "version": 3
   },
   "file_extension": ".py",
   "mimetype": "text/x-python",
   "name": "python",
   "nbconvert_exporter": "python",
   "pygments_lexer": "ipython3",
   "version": "3.7.3"
  }
 },
 "nbformat": 4,
 "nbformat_minor": 2
}
